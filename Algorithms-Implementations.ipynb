{
 "cells": [
  {
   "attachments": {},
   "cell_type": "markdown",
   "metadata": {},
   "source": [
    "These are all the libraries that we use for implementing these search algorithms. (We can run this only once and be done with it.)"
   ]
  },
  {
   "cell_type": "code",
   "execution_count": 1,
   "metadata": {},
   "outputs": [],
   "source": [
    "from heapq import heappush, heappop\n",
    "from collections import deque\n",
    "from queue import PriorityQueue\n",
    "import heapq\n",
    "import time\n",
    "import tracemalloc\n"
   ]
  },
  {
   "attachments": {},
   "cell_type": "markdown",
   "metadata": {},
   "source": [
    "The problem has given us a fixed end state. The start state can be anything we want. I used one of the matrices in the \"Examples.txt.\""
   ]
  },
  {
   "cell_type": "code",
   "execution_count": 2,
   "metadata": {},
   "outputs": [],
   "source": [
    "start = [0, 1, 2, 4, 5, 3, 7, 8, 6]\n",
    "end = [1, 2, 3, 4, 5, 6, 7, 8, 0]"
   ]
  },
  {
   "attachments": {},
   "cell_type": "markdown",
   "metadata": {},
   "source": [
    "Here we have the BFS function that finds our solution. The solution is optimal. Time complexity is not very high for simple inputs but for more complicated ones it may take somewhere around 7 seconds. Space complexity is also moderate."
   ]
  },
  {
   "cell_type": "code",
   "execution_count": 3,
   "metadata": {},
   "outputs": [
    {
     "name": "stdout",
     "output_type": "stream",
     "text": [
      "['Right', 'Right', 'Down', 'Down']\n",
      "Execution time: 0.001994609832763672 seconds\n",
      "BFS memory usage: current memory usage is 0.01MB; Peak was 0.02MB\n",
      "\n"
     ]
    }
   ],
   "source": [
    "#Solving 8-Puzzle Using BFS\n",
    "def bfs_8puzzle(start, end):\n",
    "    queue = deque([(start, [])])\n",
    "    visited = set()\n",
    "    while queue:\n",
    "        state, moves = queue.popleft()\n",
    "        if state == end:\n",
    "            return moves\n",
    "        if str(state) in visited:\n",
    "            continue\n",
    "        visited.add(str(state))\n",
    "        zero_index = state.index(0)\n",
    "        row, col = zero_index // 3, zero_index % 3\n",
    "        if row > 0:\n",
    "            new_state = state[:]\n",
    "            new_state[zero_index], new_state[zero_index - 3] = new_state[zero_index - 3], new_state[zero_index]\n",
    "            queue.append((new_state, moves + ['Up']))\n",
    "        if row < 2:\n",
    "            new_state = state[:]\n",
    "            new_state[zero_index], new_state[zero_index + 3] = new_state[zero_index + 3], new_state[zero_index]\n",
    "            queue.append((new_state, moves + ['Down']))\n",
    "        if col > 0:\n",
    "            new_state = state[:]\n",
    "            new_state[zero_index], new_state[zero_index - 1] = new_state[zero_index - 1], new_state[zero_index]\n",
    "            queue.append((new_state, moves + ['Left']))\n",
    "        if col < 2:\n",
    "            new_state = state[:]\n",
    "            new_state[zero_index], new_state[zero_index + 1] = new_state[zero_index + 1], new_state[zero_index]\n",
    "            queue.append((new_state, moves + ['Right']))\n",
    "    return None\n",
    "\n",
    "tracemalloc.start()\n",
    "\n",
    "bfs_memory = tracemalloc.get_traced_memory()[0]\n",
    "st = time.time()\n",
    "print(bfs_8puzzle(start, end)) \n",
    "et = time.time()\n",
    "print('Execution time:', et-st, 'seconds')\n",
    "current, peak = tracemalloc.get_traced_memory()\n",
    "print(f\"BFS memory usage: current memory usage is {current / 10**6:.2f}MB; Peak was {peak / 10**6:.2f}MB\\n\")\n",
    "\n",
    "tracemalloc.stop()"
   ]
  },
  {
   "attachments": {},
   "cell_type": "markdown",
   "metadata": {},
   "source": [
    "DFS doesn't give us an optimal solution. Even for very simple inputs, it may have a very high time complexity. This is by far the worst algorithm to solve this problem."
   ]
  },
  {
   "cell_type": "code",
   "execution_count": 4,
   "metadata": {},
   "outputs": [
    {
     "name": "stdout",
     "output_type": "stream",
     "text": [
      "['Down', 'Up', 'Down', 'Up', 'Down', 'Up', 'Right', 'Right', 'Down', 'Down']\n",
      "Execution time: 0.0009968280792236328 seconds\n",
      "DFS memory usage: current memory usage is 0.01MB; Peak was 0.02MB\n",
      "\n"
     ]
    }
   ],
   "source": [
    "#Solving 8-Puzzle Using DFS\n",
    "def dfs_8puzzle(state, end, depth=11, moves=[]):\n",
    "    if depth == 0:\n",
    "        return\n",
    "    if state == end:\n",
    "        return moves\n",
    "    zero_index = state.index(0)\n",
    "    row, col = zero_index // 3, zero_index % 3\n",
    "    if row > 0:\n",
    "        new_state = state[:]\n",
    "        new_state[zero_index], new_state[zero_index - 3] = new_state[zero_index - 3], new_state[zero_index]\n",
    "        result = dfs_8puzzle(new_state, end, depth-1, moves + ['Up'])\n",
    "        if result is not None:\n",
    "            return result\n",
    "    if row < 2:\n",
    "        new_state = state[:]\n",
    "        new_state[zero_index], new_state[zero_index + 3] = new_state[zero_index + 3], new_state[zero_index]\n",
    "        result = dfs_8puzzle(new_state, end, depth-1, moves + ['Down'])\n",
    "        if result is not None:\n",
    "            return result\n",
    "    if col > 0:\n",
    "        new_state = state[:]\n",
    "        new_state[zero_index], new_state[zero_index - 1] = new_state[zero_index - 1], new_state[zero_index]\n",
    "        result = dfs_8puzzle(new_state, end, depth-1, moves + ['Left'])\n",
    "        if result is not None:\n",
    "            return result\n",
    "    if col < 2:\n",
    "        new_state = state[:]\n",
    "        new_state[zero_index], new_state[zero_index + 1] = new_state[zero_index + 1], new_state[zero_index]\n",
    "        result = dfs_8puzzle(new_state, end, depth-1, moves + ['Right'])\n",
    "        if result is not None:\n",
    "            return result\n",
    "    return None\n",
    "\n",
    "tracemalloc.start()\n",
    "\n",
    "dfs_memory = tracemalloc.get_traced_memory()[0]\n",
    "st = time.time()\n",
    "print(dfs_8puzzle(start, end))\n",
    "et = time.time()\n",
    "print('Execution time:', et-st, 'seconds')\n",
    "current, peak = tracemalloc.get_traced_memory()\n",
    "print(f\"DFS memory usage: current memory usage is {current / 10**6:.2f}MB; Peak was {peak / 10**6:.2f}MB\\n\")\n",
    "\n",
    "tracemalloc.stop()"
   ]
  },
  {
   "attachments": {},
   "cell_type": "markdown",
   "metadata": {},
   "source": [
    "A little change to DFS and everything's much much better. Time complexity is very good for simple inputs but for more complicated ones it gets a little high. But the space complexity is the best among all of these algorithms. It also gives us an optimal solution."
   ]
  },
  {
   "cell_type": "code",
   "execution_count": 5,
   "metadata": {},
   "outputs": [
    {
     "name": "stdout",
     "output_type": "stream",
     "text": [
      "['Right', 'Right', 'Down', 'Down']\n",
      "Execution time: 0.0 seconds\n",
      "IDS memory usage: current memory usage is 0.00MB; Peak was 0.01MB\n",
      " \n"
     ]
    }
   ],
   "source": [
    "#Solving 8-Puzzle Using IDS(With DepthLimit = 32)\n",
    "def ids_8puzzle(start, end):\n",
    "    depth = 0\n",
    "    while True:\n",
    "        result = dfs_8puzzle_limited_depth(start, end, depth)\n",
    "        if result is not None:\n",
    "            return result\n",
    "        depth += 1\n",
    "\n",
    "def dfs_8puzzle_limited_depth(state, end, depth_limit, moves=[]):\n",
    "    if state == end:\n",
    "        return moves\n",
    "    if depth_limit == 0:\n",
    "        return None\n",
    "    zero_index = state.index(0)\n",
    "    row, col = zero_index // 3, zero_index % 3\n",
    "    if row > 0:\n",
    "        new_state = state[:]\n",
    "        new_state[zero_index], new_state[zero_index - 3] = new_state[zero_index - 3], new_state[zero_index]\n",
    "        result = dfs_8puzzle_limited_depth(new_state, end, depth_limit - 1, moves + ['Up'])\n",
    "        if result is not None:\n",
    "            return result\n",
    "    if row < 2:\n",
    "        new_state = state[:]\n",
    "        new_state[zero_index], new_state[zero_index + 3] = new_state[zero_index + 3], new_state[zero_index]\n",
    "        result = dfs_8puzzle_limited_depth(new_state, end, depth_limit - 1, moves + ['Down'])\n",
    "        if result is not None:\n",
    "            return result\n",
    "    if col > 0:\n",
    "        new_state = state[:]\n",
    "        new_state[zero_index], new_state[zero_index - 1] = new_state[zero_index - 1], new_state[zero_index]\n",
    "        result = dfs_8puzzle_limited_depth(new_state, end, depth_limit - 1, moves + ['Left'])\n",
    "        if result is not None:\n",
    "            return result\n",
    "    if col < 2:\n",
    "        new_state = state[:]\n",
    "        new_state[zero_index], new_state[zero_index + 1] = new_state[zero_index + 1], new_state[zero_index]\n",
    "        result = dfs_8puzzle_limited_depth(new_state, end, depth_limit - 1, moves + ['Right'])\n",
    "        if result is not None:\n",
    "            return result\n",
    "    return None\n",
    "\n",
    "tracemalloc.start()\n",
    "\n",
    "ids_memory = tracemalloc.get_traced_memory()[0]\n",
    "st = time.time()\n",
    "print(ids_8puzzle(start, end)) \n",
    "et = time.time()\n",
    "print('Execution time:', et-st, 'seconds')\n",
    "current, peak = tracemalloc.get_traced_memory()\n",
    "print(f\"IDS memory usage: current memory usage is {current / 10**6:.2f}MB; Peak was {peak / 10**6:.2f}MB\\n \")\n",
    "\n",
    "tracemalloc.stop()"
   ]
  },
  {
   "attachments": {},
   "cell_type": "markdown",
   "metadata": {},
   "source": [
    "The solution is optimal. Time and space complexity are both moderate."
   ]
  },
  {
   "cell_type": "code",
   "execution_count": 6,
   "metadata": {},
   "outputs": [
    {
     "name": "stdout",
     "output_type": "stream",
     "text": [
      "['Right', 'Right', 'Down', 'Down']\n",
      "Execution time: 0.0 seconds\n",
      "UCS memory usage: current memory usage is 0.01MB; Peak was 0.02MB \n",
      "\n"
     ]
    }
   ],
   "source": [
    "#Solving 8-Puzzle Using UCS\n",
    "def ucs_8puzzle(start, end):\n",
    "    queue = PriorityQueue()\n",
    "    queue.put((0, start, []))\n",
    "    visited = set()\n",
    "    while not queue.empty():\n",
    "        cost, curr, moves = queue.get()\n",
    "        if tuple(curr) in visited:\n",
    "            continue\n",
    "        visited.add(tuple(curr))\n",
    "        if curr == end:\n",
    "            return moves\n",
    "        zero_index = curr.index(0)\n",
    "        row, col = zero_index // 3, zero_index % 3\n",
    "        if row > 0:\n",
    "            new_state = curr[:]\n",
    "            new_state[zero_index], new_state[zero_index - 3] = new_state[zero_index - 3], new_state[zero_index]\n",
    "            queue.put((cost + 1, new_state, moves + ['Up']))\n",
    "        if row < 2:\n",
    "            new_state = curr[:]\n",
    "            new_state[zero_index], new_state[zero_index + 3] = new_state[zero_index + 3], new_state[zero_index]\n",
    "            queue.put((cost + 1, new_state, moves + ['Down']))\n",
    "        if col > 0:\n",
    "            new_state = curr[:]\n",
    "            new_state[zero_index], new_state[zero_index - 1] = new_state[zero_index - 1], new_state[zero_index]\n",
    "            queue.put((cost + 1, new_state, moves + ['Left']))\n",
    "        if col < 2:\n",
    "            new_state = curr[:]\n",
    "            new_state[zero_index], new_state[zero_index + 1] = new_state[zero_index + 1], new_state[zero_index]\n",
    "            queue.put((cost + 1, new_state, moves + ['Right']))\n",
    "\n",
    "tracemalloc.start()\n",
    "\n",
    "ucs_memory = tracemalloc.get_traced_memory()[0]\n",
    "st = time.time()\n",
    "print(ucs_8puzzle(start, end)) \n",
    "et = time.time()\n",
    "print('Execution time:', et-st, 'seconds')\n",
    "current, peak = tracemalloc.get_traced_memory()\n",
    "print(f\"UCS memory usage: current memory usage is {current / 10**6:.2f}MB; Peak was {peak / 10**6:.2f}MB \\n\")\n",
    "\n",
    "tracemalloc.stop()"
   ]
  },
  {
   "attachments": {},
   "cell_type": "markdown",
   "metadata": {},
   "source": [
    "A* gives us an optimal solution in a very short time. It has the best time complexity and also a very good space complexity."
   ]
  },
  {
   "cell_type": "code",
   "execution_count": 7,
   "metadata": {},
   "outputs": [
    {
     "name": "stdout",
     "output_type": "stream",
     "text": [
      "['Right', 'Right', 'Down', 'Down']\n",
      "Execution time: 0.0009903907775878906 seconds\n",
      "ASTAR memory usage: current memory usage is 0.00MB; Peak was 0.01MB \n",
      "\n"
     ]
    }
   ],
   "source": [
    "#Solving 8-Puzzle Using A*\n",
    "def astar_8puzzle(start, end):\n",
    "    n = 3\n",
    "\n",
    "    def index(lst, value):\n",
    "        for i, item in enumerate(lst):\n",
    "            if item == value:\n",
    "                return i\n",
    "\n",
    "    def manhattan(state, goal):\n",
    "        man_distance = 0\n",
    "        for value in state:\n",
    "            if value == 0:\n",
    "                continue\n",
    "            i = index(state, value)\n",
    "            x, y = i // n, i % n\n",
    "            goal_idx = index(goal, value)\n",
    "            x_goal, y_goal = goal_idx // n, goal_idx % n\n",
    "            man_distance += abs(x - x_goal) + abs(y - y_goal)\n",
    "        return man_distance\n",
    "\n",
    "    def move(state, direction):\n",
    "        idx_0 = index(state, 0)\n",
    "        if direction == \"Left\":\n",
    "            if idx_0 % n == 0:\n",
    "                return None\n",
    "            else:\n",
    "                new_state = state[:]\n",
    "                new_state[idx_0 - 1], new_state[idx_0] = new_state[idx_0], new_state[idx_0 - 1]\n",
    "                return new_state\n",
    "        elif direction == \"Right\":\n",
    "            if idx_0 % n == n - 1:\n",
    "                return None\n",
    "            else:\n",
    "                new_state = state[:]\n",
    "                new_state[idx_0 + 1], new_state[idx_0] = new_state[idx_0], new_state[idx_0 + 1]\n",
    "                return new_state\n",
    "        elif direction == \"Up\":\n",
    "            if idx_0 // n == 0:\n",
    "                return None\n",
    "            else:\n",
    "                new_state = state[:]\n",
    "                new_state[idx_0 - n], new_state[idx_0] = new_state[idx_0], new_state[idx_0 - n]\n",
    "                return new_state\n",
    "        elif direction == \"Down\":\n",
    "            if idx_0 // n == n - 1:\n",
    "                return None\n",
    "            else:\n",
    "                new_state = state[:]\n",
    "                new_state[idx_0 + n], new_state[idx_0] = new_state[idx_0], new_state[idx_0 + n]\n",
    "                return new_state\n",
    "\n",
    "    def bfs(start, goal, q, visited):\n",
    "        if start == goal:\n",
    "            return visited\n",
    "        for direction in [\"Left\", \"Right\", \"Up\", \"Down\"]:\n",
    "            state = move(start, direction)\n",
    "            if state and state not in visited:\n",
    "                priority = len(visited) + manhattan(state, goal)\n",
    "                heapq.heappush(q, (priority, state, visited + [direction]))\n",
    "        return None\n",
    "\n",
    "    q = [(manhattan(start, end), start, [])]\n",
    "    visited = []\n",
    "    while q:\n",
    "        priority, state, path = heapq.heappop(q)\n",
    "        if state not in visited:\n",
    "            solution = bfs(state, end, q, path)\n",
    "            if solution:\n",
    "                return solution\n",
    "            visited.append(state)\n",
    "    return None\n",
    "\n",
    "tracemalloc.start()\n",
    "\n",
    "astar_memory = tracemalloc.get_traced_memory()[0]\n",
    "st = time.time()\n",
    "print(astar_8puzzle(start, end))\n",
    "et = time.time()\n",
    "print('Execution time:', et-st, 'seconds')\n",
    "current, peak = tracemalloc.get_traced_memory()\n",
    "print(f\"ASTAR memory usage: current memory usage is {current / 10**6:.2f}MB; Peak was {peak / 10**6:.2f}MB \\n\")\n",
    "\n",
    "tracemalloc.stop()\n"
   ]
  }
 ],
 "metadata": {
  "kernelspec": {
   "display_name": "Python 3",
   "language": "python",
   "name": "python3"
  },
  "language_info": {
   "codemirror_mode": {
    "name": "ipython",
    "version": 3
   },
   "file_extension": ".py",
   "mimetype": "text/x-python",
   "name": "python",
   "nbconvert_exporter": "python",
   "pygments_lexer": "ipython3",
   "version": "3.7.5"
  },
  "orig_nbformat": 4,
  "vscode": {
   "interpreter": {
    "hash": "0a54084e6b208ee8d1ce3989ffc20924477a5f55f5a43e22e699a6741623861e"
   }
  }
 },
 "nbformat": 4,
 "nbformat_minor": 2
}
